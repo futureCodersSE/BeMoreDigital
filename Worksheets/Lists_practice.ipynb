{
  "nbformat": 4,
  "nbformat_minor": 0,
  "metadata": {
    "colab": {
      "name": "Lists practice.ipynb",
      "provenance": [],
      "authorship_tag": "ABX9TyOqUrwFt0KC7RBjhFZY4LDG",
      "include_colab_link": true
    },
    "kernelspec": {
      "name": "python3",
      "display_name": "Python 3"
    },
    "language_info": {
      "name": "python"
    }
  },
  "cells": [
    {
      "cell_type": "markdown",
      "metadata": {
        "id": "view-in-github",
        "colab_type": "text"
      },
      "source": [
        "<a href=\"https://colab.research.google.com/github/futureCodersSE/BeMoreDigital/blob/master/Worksheets/Lists_practice.ipynb\" target=\"_parent\"><img src=\"https://colab.research.google.com/assets/colab-badge.svg\" alt=\"Open In Colab\"/></a>"
      ]
    },
    {
      "cell_type": "markdown",
      "source": [
        "# Practice working with lists\n",
        "---\n",
        "\n",
        "## Before you start practising:\n",
        "You will need to have learnt the following:\n",
        "\n",
        "* types of variables\n",
        "* getting input from the keyboard\n",
        "* using if / elif / else\n",
        "* for loops\n",
        " \n",
        "Don't forget these operators:\n",
        "```\n",
        "less than (<)\n",
        "greater than (>)\n",
        "less than or equal to (<=)\n",
        "greater than or equal to (>=)\n",
        "```\n",
        "And these list 'methods' (something a list can do to itself):\n",
        "\n",
        "*Append* - you can append a new element to the end of your list using the append function: `nameoflist.append(name of variable you are appending)`\n",
        "\n",
        "*Sum* - you can total the items in a numerical list by using the sum function: `print(sum(nameoflist))`\n",
        "\n",
        "*Max* - you can find the biggest number in a list by using the max function `(max(nameoflist))`\n",
        "\n",
        "*Min* - you can find the smallest number in a list by using the min function `(min(nameoflist))`\n"
      ],
      "metadata": {
        "id": "z88wV2Tcne1u"
      }
    },
    {
      "cell_type": "markdown",
      "source": [
        "### Exercise 1\n",
        "---\n",
        "Exercise 1\n",
        "Create a list called **dogs** and add spaniel, labrador and poodle to it.\n",
        "\n",
        "Print the list so each element appears on a different line (don't forget you need a for loop for this)\n",
        "\n",
        "**Expected Output**:\n",
        "```\n",
        "spaniel\n",
        "labrador\n",
        "poodle\n",
        "```"
      ],
      "metadata": {
        "id": "1PYKSjQXoGi2"
      }
    },
    {
      "cell_type": "code",
      "execution_count": null,
      "metadata": {
        "id": "zLQuOsQTncTU"
      },
      "outputs": [],
      "source": [
        ""
      ]
    },
    {
      "cell_type": "markdown",
      "source": [
        "### Exercise 2\n",
        "---\n",
        "\n",
        "Create an input asking the user for another dog to append to your list, and add pug to the list called dogs.\n",
        "\n",
        "Print the new list, then print it twice more   \n",
        "(1) sorted then   \n",
        "(2) in reverse  \n",
        "\n",
        "**Expected Output**:\n",
        "```\n",
        "[spaniel, labrador, poodle, pug]\n",
        "[labrador, poodle, pug, spaniel]\n",
        "[spaniel, pug, poodle, labrador]\n",
        "```"
      ],
      "metadata": {
        "id": "mN3X7grhoe0l"
      }
    },
    {
      "cell_type": "code",
      "source": [
        ""
      ],
      "metadata": {
        "id": "UAwoFcvdopI8"
      },
      "execution_count": null,
      "outputs": []
    },
    {
      "cell_type": "markdown",
      "source": [
        "### Exercise 3\n",
        "---\n",
        "\n",
        "Create another list called **dogs2**, and add the original dogs, plus 3 more dogs of your choice.\n",
        "\n",
        "* Use `.extend()` to combine the 2 lists together (`dogs` and `dogs2`)\n",
        "\n",
        "* Delete the 5th element in `my_dogs` and print `dogs`.\n",
        "\n",
        "**Test Inputs:**\n",
        "\n",
        "Your choice, but could include alsatian, dalmatian, golden retriever, rotweiller.\n",
        "\n",
        "**Expected Output:**\n",
        "\n",
        "Original list of dogs + pug + your 3 dogs added and the 5th dog removed.\n",
        "\n"
      ],
      "metadata": {
        "id": "TcG9AgXBopVc"
      }
    },
    {
      "cell_type": "code",
      "source": [
        ""
      ],
      "metadata": {
        "id": "GY9W9WQepEme"
      },
      "execution_count": null,
      "outputs": []
    },
    {
      "cell_type": "markdown",
      "source": [
        "### Exercise 4\n",
        "---\n",
        "\n",
        "Ask the user to input another breed of dog.  Interrogate your list to see whether this breed of dog is in dogs.\n",
        "\n",
        "If the dog is in your list, return \"Yay you have a xx\" (replace this with the breed of dog).\n",
        "\n",
        "If your dog is not in the list, return \"Sorry, you do not have a xx (replace this with the breed of dog).\n",
        "\n",
        "**Test Input 1**:\n",
        "boxer    \n",
        "\n",
        "**Expected Output 2:**:\n",
        "```\n",
        "Sorry, you do not have a boxer\n",
        "```\n",
        "**Test Input 2**: \n",
        "spaniel  \n",
        "\n",
        "**Expected Output 2:**:\n",
        "```\n",
        "Yay, you have a spaniel\n",
        "```\n"
      ],
      "metadata": {
        "id": "xR8V8ZKRpEzM"
      }
    },
    {
      "cell_type": "code",
      "source": [
        ""
      ],
      "metadata": {
        "id": "glqE5_JzqKT_"
      },
      "execution_count": null,
      "outputs": []
    },
    {
      "cell_type": "markdown",
      "source": [
        "### Exercise 5\n",
        "---\n",
        "\n",
        "Write a function called generate_lottery_ticket() which will:\n",
        "\n",
        "* create an new list called **lottery** and add 6 numbers to it (25, 12, 3, 2, 13, 35)\n",
        "* print the length of the list\n",
        "* add together the items in the list and print the total\n",
        "* print the biggest number in your list (use max)\n",
        "* print the smallest number in your list (use min)\n",
        "* print the last number in your list (use [-1])\n",
        "\n",
        "**Expected Output**:\n",
        "```\n",
        "6\n",
        "90\n",
        "35\n",
        "2\n",
        "35\n",
        "```"
      ],
      "metadata": {
        "id": "I2ghKvYzqKdO"
      }
    },
    {
      "cell_type": "code",
      "source": [
        ""
      ],
      "metadata": {
        "id": "ZEReD0ncqwS4"
      },
      "execution_count": null,
      "outputs": []
    },
    {
      "cell_type": "markdown",
      "source": [
        "# Record any problems you had here\n",
        "Mentioning how you resolved them"
      ],
      "metadata": {
        "id": "WkRJlBm3qzP2"
      }
    },
    {
      "cell_type": "markdown",
      "source": [
        ""
      ],
      "metadata": {
        "id": "JKi496PSq_X1"
      }
    }
  ]
}