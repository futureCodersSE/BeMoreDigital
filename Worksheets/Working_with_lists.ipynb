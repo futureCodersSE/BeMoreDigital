{
  "nbformat": 4,
  "nbformat_minor": 0,
  "metadata": {
    "colab": {
      "name": "Working with lists.ipynb",
      "provenance": [],
      "collapsed_sections": [],
      "authorship_tag": "ABX9TyMsY43BsZV4D0Wxst1MluoU",
      "include_colab_link": true
    },
    "kernelspec": {
      "name": "python3",
      "display_name": "Python 3"
    },
    "language_info": {
      "name": "python"
    }
  },
  "cells": [
    {
      "cell_type": "markdown",
      "metadata": {
        "id": "view-in-github",
        "colab_type": "text"
      },
      "source": [
        "<a href=\"https://colab.research.google.com/github/futureCodersSE/BeMoreDigital/blob/master/Worksheets/Working_with_lists.ipynb\" target=\"_parent\"><img src=\"https://colab.research.google.com/assets/colab-badge.svg\" alt=\"Open In Colab\"/></a>"
      ]
    },
    {
      "cell_type": "markdown",
      "source": [
        "# Data (e.g. variables) and Data structures (e.g. lists, dictionaries)\n",
        "\n",
        "Variables are used to store data that may have been entered by the user:\n",
        "* a name (this is STRING data)\n",
        "* an age (this in INTEGER data)\n",
        "\n",
        "or that has been calculated by a program:\n",
        "* a Body Mass Index value (this is FLOATING POINT or DECIMAL data)\n",
        "* a flag which can be set to true or false (this is BOOLEAN data)\n",
        "\n",
        "All the above are single items of **data**.\n",
        "\n",
        "Often we want to store a number of single items of data together so that they can be processed together.  This might be because all the data refers to one person (e.g. name, age, gender, etc) OR it might be because we have a set of data (e.g. all the items that should be displayed in a drop down list, such as all the years from this year back to 100 years ago so that someone can select their year of birth)\n",
        "\n",
        "Python has data structures such as **Lists** and **Dictionaries**\n",
        "\n",
        "### List\n",
        "A collection of similar data stored one after another.  You can access an item in a list using its position, e.g:\n",
        "```\n",
        "rainbow_colours = ['red','yellow','pink','green','orange','purple','blue']\n",
        "```  \n",
        "The positions of the colours are numbered 0 to 6 and you can access the colour 'green' at `rainbow_colours[3]`.\n",
        "\n",
        "### Dictionary  \n",
        "\n",
        "A collection of dissimilar data stored together in one record.  You can access an item in a dictionary using its label, e.g.:\n",
        "```\n",
        "    person = {\n",
        "        \"name\":\"John\",\n",
        "        \"age\":13,\n",
        "        \"gender\":\"male\"\n",
        "    }\n",
        "```\n",
        "\n",
        "We will come back to dictionaries later.\n",
        "\n",
        "### Let's have a go at working with a list\n",
        "---\n"
      ],
      "metadata": {
        "id": "vA3sBYZ6xkZ5"
      }
    },
    {
      "cell_type": "markdown",
      "source": [
        "### Exercise 1 - slicing out subsets of a list\n",
        "---\n",
        "\n",
        "Run the code in the cell below to see what happens to the list and the print statements on lines 5 and 6.\n",
        "\n",
        "THEN\n",
        "\n",
        "Add to the code so that it so that it will also print the values of the third, fourth, fifth, sixth and seventh colours of the rainbow.\n",
        "\n",
        "### Exercise 2\n",
        "---\n",
        "\n",
        "Use *slicing* to print different elements from the list. Change the code that prints the first colour (`rainbow`) so that it, instead, prints the 2nd to 4th colours `rainbow[1:4]` and see what happens. You can use slice to print a range of elements in a list. Play with the following slice options:\n",
        "```\n",
        "rainbow[start:stop] # copies items from position `start` to stop-1`\n",
        "\n",
        "rainbow[start:] # copies items from position `start` to the end of the list\n",
        "\n",
        "rainbow[:stop] # copies items from the beginning to position `stop-1`\n",
        "\n",
        "rainbow[:] # creates a copy of the whole list\n",
        "```\n",
        "\n",
        "### Exercise 3\n",
        "---\n",
        "Add a line of code that will ask the user to enter the item in the colour list that they want to see, using its position (e.g. 4 to see the 4th colour in the list, 2 to see the second, etc):\n",
        "\n",
        "`position = int(input(\"Which position? \"))`\n",
        "\n",
        "Then add a line that will print the colour that is in that position in the list. Remember that we count from 1 to 7 but the list is indexed from 0 to 6.\n",
        "\n",
        "You will need to use:\n",
        "\n",
        "`print(\"You chose\", rainbow[position - 1])`"
      ],
      "metadata": {
        "id": "gJnbGC0iynse"
      }
    },
    {
      "cell_type": "code",
      "execution_count": null,
      "metadata": {
        "colab": {
          "base_uri": "https://localhost:8080/"
        },
        "id": "eVfcr3ahxNVO",
        "outputId": "0ebfb2b9-8915-453b-dd21-c24d769d7526"
      },
      "outputs": [
        {
          "output_type": "stream",
          "name": "stdout",
          "text": [
            "The first colour in the rainbow is: red\n",
            "The second colour in the rainbow is: yellow\n"
          ]
        }
      ],
      "source": [
        "def display_list_info():\n",
        "  rainbow = [\"red\", \"yellow\", \"pink\", \"green\", \"orange\", \"purple\", \"blue\"]\n",
        "\n",
        "  print(\"The first colour in the rainbow is:\", rainbow[0])\n",
        "  print(\"The second colour in the rainbow is:\", rainbow[1])\n",
        "\n",
        "display_list_info()"
      ]
    },
    {
      "cell_type": "markdown",
      "source": [
        "---\n",
        "### Challenge\n",
        "---\n",
        "\n",
        "Write a new function in the cell below which will:\n",
        "\n",
        "* Create the list of rainbow colours.  \n",
        "* Ask the user to guess which position in the list the colour **blue** is. * Read their answer and then show them what is actually at that position.\n",
        "* Then, if the colour at that position is not blue, print a message that says they got it wrong. Otherwise, print a message that says \"Well done\".\n",
        "\n",
        "To test that you program works correctly, move the colour blue to a different position in the list. Print the list and then ask the user to enter the position of the colour blue. The only change you should have made is the position of blue. The program should still tell the user if they got it right or not.\n",
        "\n",
        "**Expected output**:  \n",
        "Either:  \n",
        "`Sorry, blue is not there`    \n",
        "or:  \n",
        "`Well done`"
      ],
      "metadata": {
        "id": "gb-bxVFOyuuV"
      }
    },
    {
      "cell_type": "code",
      "source": [
        ""
      ],
      "metadata": {
        "id": "5sIu8iQRzZHL"
      },
      "execution_count": null,
      "outputs": []
    },
    {
      "cell_type": "markdown",
      "source": [
        "### Make it into a game\n",
        "---\n",
        "\n",
        "This code will add the colours to the list in random order.  You don't necessarily need to fully understand what it does now but study the code and see if you can work it out.\n",
        "\n",
        "```\n",
        "from random import choice\n",
        "\n",
        "def guess_random_colour_position():\n",
        "  rainbow_colours = ['red','yellow','pink','green','orange','purple','blue']\n",
        "  mixed_up_rainbow_colours = []\n",
        "  number_to_add = len(rainbow_colours)\n",
        "  for i in range(number_to_add):\n",
        "    colour_choice = choice(rainbow_colours)\n",
        "    mixed_up_rainbow_colours.append(colour_choice)\n",
        "  print(mixed_up_rainbow_colours) # replace this line with guessing code\n",
        "\n",
        "guess_random_colour_position()\n",
        "\n",
        "\n",
        "```"
      ],
      "metadata": {
        "id": "Uqa99Kqv1Blz"
      }
    },
    {
      "cell_type": "code",
      "source": [
        ""
      ],
      "metadata": {
        "id": "9G7PfeYq1PB_"
      },
      "execution_count": null,
      "outputs": []
    },
    {
      "cell_type": "markdown",
      "source": [
        "### Exercise 4\n",
        "---\n",
        "\n",
        "Add code to ask the user to enter the item in the colour list that they want to see (e.g. 4 to see the 4th colour in the list, 2 to see the second, etc):\n",
        "\n",
        "  position = int(input(\"Which position?\"))\n",
        "\n",
        "Then add a line that will print the colour that is in that position in the list. Remember that we count from 1 to 7 but the list is indexed from 0 to 6.\n",
        "\n",
        "You will need to use:\n",
        "\n",
        "  print(\"You chose\", mixed_up_rainbow[position - 1])"
      ],
      "metadata": {
        "id": "qqjxyP5vu6c4"
      }
    },
    {
      "cell_type": "code",
      "source": [
        ""
      ],
      "metadata": {
        "id": "ewlSFklhyXvi"
      },
      "execution_count": null,
      "outputs": []
    },
    {
      "cell_type": "markdown",
      "source": [
        "### Challenge\n",
        "---\n",
        "\n",
        "Ask the user to guess which position in the list the colour blue is. Read their answer and then show them what is actually at that position.\n",
        "Then, if the colour at that position is not blue, print a message that says they got it wrong, and that blue is actually the 1st, 2nd, 3rd, etc in the list. Otherwise, print a message that says \"Well done, you found it\".\n",
        "\n",
        "### Extra challenge\n",
        "Each time you run the function, the order will change.  Maybe you can add a while loop (`while True:`) to run the function until the user gets it right (you could write a second function that calls the `guess_random_colour_position()`, then asks them if they got it right.  If they enter Y, break the loop (`break`)"
      ],
      "metadata": {
        "id": "u1zV9RUjzZfV"
      }
    },
    {
      "cell_type": "code",
      "source": [
        "# add the guess_random_colour_position code here\n",
        "\n",
        "def guess_the_colour_game():\n",
        "  # add code here to run the guess_random_colour_position function, then check if the user got it right and stop if so\n",
        "\n",
        "\n",
        "guess_the_colour_game()"
      ],
      "metadata": {
        "id": "Oe8o6v6cyZFX"
      },
      "execution_count": null,
      "outputs": []
    },
    {
      "cell_type": "markdown",
      "source": [
        "## Takeaways\n",
        "* a list is a collection of similar items separated by commas\n",
        "* each item can be accessed by its position or index in the list\n",
        "* multiple items can be accessed by the start and stop positions\n",
        "* list indexes go from 0 to one less than the number of items in the list\n",
        "* the length of a list is len(listname)\n",
        "* a list has a number of methods (things it can do to itself) like `.append()`, `.remove()`, etc"
      ],
      "metadata": {
        "id": "2aoQRMr9xX5y"
      }
    }
  ]
}