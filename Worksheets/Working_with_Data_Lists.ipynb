{
  "nbformat": 4,
  "nbformat_minor": 0,
  "metadata": {
    "colab": {
      "name": "Working with Data Lists.ipynb",
      "provenance": [],
      "collapsed_sections": [],
      "authorship_tag": "ABX9TyOR6YAG4DDNAkxwcOSZq0uL",
      "include_colab_link": true
    },
    "kernelspec": {
      "name": "python3",
      "display_name": "Python 3"
    },
    "language_info": {
      "name": "python"
    }
  },
  "cells": [
    {
      "cell_type": "markdown",
      "metadata": {
        "id": "view-in-github",
        "colab_type": "text"
      },
      "source": [
        "<a href=\"https://colab.research.google.com/github/futureCodersSE/BeMoreDigital/blob/master/Worksheets/Working_with_Data_Lists.ipynb\" target=\"_parent\"><img src=\"https://colab.research.google.com/assets/colab-badge.svg\" alt=\"Open In Colab\"/></a>"
      ]
    },
    {
      "cell_type": "markdown",
      "metadata": {
        "id": "Z-M-RCWATK71"
      },
      "source": [
        "# Lists\n",
        "\n",
        "Often we need to store a number of single items of data together so that they can be processed together. This might be because all the data refers to one person (e.g. name, age, gender, etc) OR it might be because we have a set of data (e.g. all the items that should be displayed in a drop down list, such as all the years from this year back to 100 years ago so that someone can select their year of birth)\n",
        "\n",
        "Python has a range of data structures available including:\n",
        "*   lists  \n",
        "*   tuples  \n",
        "*   dictionaries  \n",
        "*   sets\n",
        "\n",
        "This worksheet looks at lists.\n",
        "\n",
        "## List\n",
        "A list is a set of related, individual data objects, that are indexed and can be processed as a whole, as subsets or as individual items.  Lists are stored, essentially, as contiguous items in memory so that access can be as quick as possible.  However, they are mutable (they can be changed after they have been created and stored) and so they need to have extra functionality to deal with changing list sizes.\n",
        "\n",
        "# Let's get some lists of data\n",
        "For this worksheet we are going to work with data on STEAM games.  We are going to get the data from a spreadsheet and make lists that we can find things out from.\n",
        "\n"
      ]
    },
    {
      "cell_type": "markdown",
      "source": [
        "# Creating a list\n",
        "```\n",
        "nums = [1, 2, 3, 4, 5]\n",
        "names = [\"Tom\",\"Jerry\",\"Spike\"]\n",
        "```"
      ],
      "metadata": {
        "id": "TUvfamdEweE1"
      }
    },
    {
      "cell_type": "markdown",
      "source": [
        "# Printing a list\n",
        "\n",
        "```\n",
        "print(nums)\n",
        "[1,2,3,4,5]\n",
        "```\n",
        "\n",
        "```\n",
        "print(names)\n",
        "[\"Tom\",\"Jerry\",\"Spike\"]\n",
        "```"
      ],
      "metadata": {
        "id": "TdbhgKdjw8RN"
      }
    },
    {
      "cell_type": "code",
      "source": [
        "# create the lists, and print them\n",
        "nums = [1,2,3,4,5]\n",
        "names = [\"Tom\", \"Jerry\", \"Spike\"]\n",
        "print(nums)\n",
        "print(names)"
      ],
      "metadata": {
        "colab": {
          "base_uri": "https://localhost:8080/"
        },
        "id": "MiigkTzM0cLT",
        "outputId": "ecc5479f-7e27-47c4-e38c-b3fc03a449d3"
      },
      "execution_count": null,
      "outputs": [
        {
          "output_type": "stream",
          "name": "stdout",
          "text": [
            "[1, 2, 3, 4, 5]\n",
            "['Tom', 'Jerry', 'Spike']\n"
          ]
        }
      ]
    },
    {
      "cell_type": "markdown",
      "source": [
        "# Print individual items in the list\n",
        "\n",
        "We can access any item in a list by its position (index).  Lists are indexed from 0.\n",
        "\n",
        "To print the first item in a list, use listname[0], to print the last item use listname[-1].\n",
        "\n",
        "```\n",
        "# This is formatted as code\n",
        "```\n",
        "\n",
        "\n",
        "\n",
        "```\n",
        "print(nums[0])\n",
        "1\n",
        "```\n",
        "```\n",
        "print(names[1])\n",
        "Jerry\n",
        "```\n",
        "\n",
        "```\n",
        "print(nums[-1])\n",
        "5\n",
        "```\n"
      ],
      "metadata": {
        "id": "bCV4jL3mxRlx"
      }
    },
    {
      "cell_type": "code",
      "source": [
        "# have a go at printing different items from the lists\n",
        "print(nums[0])\n",
        "print(names[1])\n",
        "print(nums[-1])"
      ],
      "metadata": {
        "colab": {
          "base_uri": "https://localhost:8080/"
        },
        "id": "zRiLBj7G0HWd",
        "outputId": "062670e8-a679-45e8-83af-debe443a04db"
      },
      "execution_count": null,
      "outputs": [
        {
          "output_type": "stream",
          "name": "stdout",
          "text": [
            "1\n",
            "Jerry\n",
            "5\n"
          ]
        }
      ]
    },
    {
      "cell_type": "markdown",
      "source": [
        "# Print a subset of a list\n",
        "\n",
        "listname[start_index : end_index+1]  \n",
        "If start_index is the first item, or end_index is the end of the list, they can be left out\n",
        "\n",
        "```\n",
        "print(nums[:3])\n",
        "[1,2,3]\n",
        "```\n",
        "\n",
        "```\n",
        "print(names[1:])\n",
        "[\"Jerry\",\"Spike\"]\n",
        "```\n",
        "\n",
        "```\n",
        "print(nums[1:3])\n",
        "[2,3]\n",
        "```"
      ],
      "metadata": {
        "id": "flklC_z_x68p"
      }
    },
    {
      "cell_type": "code",
      "source": [
        "# have a go at printing subsets of the lists\n",
        "print(nums[:3])\n",
        "print(names[1:])\n",
        "print(nums[1:3])"
      ],
      "metadata": {
        "colab": {
          "base_uri": "https://localhost:8080/"
        },
        "id": "Axf9WFjJ0NXE",
        "outputId": "fd034c6a-1111-4059-9fbf-ac1804862db8"
      },
      "execution_count": null,
      "outputs": [
        {
          "output_type": "stream",
          "name": "stdout",
          "text": [
            "[1, 2, 3]\n",
            "['Jerry', 'Spike']\n",
            "[2, 3]\n"
          ]
        }
      ]
    },
    {
      "cell_type": "markdown",
      "source": [
        "# List length\n",
        "\n",
        "Use the len() function to get the number of items in a list.\n",
        "\n",
        "There are 5 items in the nums list and 3 in the names list.\n",
        "\n",
        "Write a function that will:\n",
        "* print the length of the nums list\n",
        "* print the length of the names list\n",
        "* concatenate (add) the two lists together to make a new list called num_names\n",
        "* print the length of the new list\n",
        "\n",
        "Expected output:\n",
        "```\n",
        "The length of the nums list is: 5\n",
        "The length of the names list is: 3\n",
        "The length of the joined list is: 8\n",
        "```\n"
      ],
      "metadata": {
        "id": "OFTklrSRuhpz"
      }
    },
    {
      "cell_type": "code",
      "source": [
        "def print_list_info():\n",
        "  print(\"The length of the nums list is:\", len(nums))\n",
        "  print(\"The length of the names list is:\", len(names))\n",
        "  nums_names = nums + names\n",
        "  print(\"The length of the joined list is:\", len(nums_names))\n",
        "\n",
        "print_list_info()"
      ],
      "metadata": {
        "colab": {
          "base_uri": "https://localhost:8080/"
        },
        "id": "OLQfwEaDvPNT",
        "outputId": "1e3abb79-bcae-4e1d-a082-b730a0ad3d6d"
      },
      "execution_count": null,
      "outputs": [
        {
          "output_type": "stream",
          "name": "stdout",
          "text": [
            "The length of the nums list is: 5\n",
            "The length of the names list is: 3\n",
            "The length of the joined list is: 8\n"
          ]
        }
      ]
    },
    {
      "cell_type": "markdown",
      "source": [
        "# List methods\n",
        "\n",
        "You can get an overview of the methods you can use here: https://www.w3schools.com/python/python_lists_methods.asp\n",
        "\n",
        "Then: \n",
        "1.  Create the nums and names list again \n",
        "2.  Append the number 6 to the nums list, and print\n",
        "3.  Insert the name \"Sylvester\" before \"Jerry\" in the names list and print\n",
        "4.  Print the length of the nums list\n",
        "5.  Remove the number 4 from the nums list, and print\n",
        "6.  Print the max and min of the nums list\n",
        "7.  Create a new list called new_nums which contains the numbers 40 to 50 (use the range function)\n",
        "\n",
        "Expected output:  \n"
      ],
      "metadata": {
        "id": "tBN4Shtd12on"
      }
    },
    {
      "cell_type": "code",
      "source": [
        "nums = [1,2,3,4,5]\n",
        "names = [\"Tom\", \"Jerry\",\"Spike\"]\n",
        "nums.append(6)\n",
        "print(nums)\n",
        "names.insert(1, \"Sylvester\")\n",
        "print(names)\n",
        "print(len(nums))\n",
        "nums.remove(4)\n",
        "print(nums)\n",
        "print(max(nums), min(nums))\n",
        "new_nums = range(40,51)\n",
        "print(new_nums)\n"
      ],
      "metadata": {
        "colab": {
          "base_uri": "https://localhost:8080/"
        },
        "id": "goe4w-yw4BVt",
        "outputId": "5f2a7ff4-9f16-4977-ea60-9c981b419a62"
      },
      "execution_count": null,
      "outputs": [
        {
          "output_type": "stream",
          "name": "stdout",
          "text": [
            "[1, 2, 3, 4, 5, 6]\n",
            "['Tom', 'Sylvester', 'Jerry', 'Spike']\n",
            "6\n",
            "[1, 2, 3, 5, 6]\n",
            "6 1\n",
            "range(40, 51)\n"
          ]
        }
      ]
    },
    {
      "cell_type": "markdown",
      "source": [
        "# Now some real data\n",
        "---\n",
        "\n",
        "1.  Open the STEAM csv file (which we have taken from Kaggle and have reduced to make it more manageable): Hi - in the Now Some Real Data section the links are broken - to click and view the dataset use: https://drive.google.com/file/d/1rkG8-cp-KLBc1zK4YMLHIsMMyyTVk5Ju/view?usp=sharing \n",
        "\n",
        "2.  Open the file with Google sheets to see what is in it.  The file contains rows of data, each with a user id and a game that the user has purchased.\n",
        "\n",
        "3.  NOW, run the code in the cell below to get:  \n",
        "- users (the list of user ids in the data)\n",
        "- titles (the list of titles that have been purchased)"
      ],
      "metadata": {
        "id": "T2tA2VavJx9Q"
      }
    },
    {
      "cell_type": "code",
      "source": [
        "import pandas as pd\n",
        "\n",
        "# open the data file and get a copy of the Titles column\n",
        "def get_users_and_titles():\n",
        "  url = \"https://drive.google.com/uc?export=download&id=1rkG8-cp-KLBc1zK4YMLHIsMMyyTVk5Ju"\n",
        "  data_table = pd.read_csv(url)\n",
        "  return data_table[\"User\"].tolist(), data_table[\"Title\"].tolist() \n",
        "\n",
        "users, titles = get_users_and_titles()"
      ],
      "metadata": {
        "id": "8YyBIyoCmz5s"
      },
      "execution_count": null,
      "outputs": []
    },
    {
      "cell_type": "markdown",
      "metadata": {
        "id": "Ft0dXl7fUuaK"
      },
      "source": [
        "---\n",
        "### Exercise 1 - list head, tail and length of the titles list\n",
        "---\n",
        "\n",
        "Write a function, **describe_list()** which will:\n",
        "*  print the length of the list `titles`\n",
        "*  print the first 10 items in `titles` (the head)  \n",
        "*  print the last 5 items in `titles` (the tail)\n",
        "\n",
        "Expected output:  \n",
        "```\n",
        "129511\n",
        "['The Elder Scrolls V Skyrim', 'Fallout 4', 'Spore', 'Fallout New Vegas', 'Left 4 Dead 2', 'HuniePop', 'Path of Exile', 'Poly Bridge', 'Left 4 Dead', 'Team Fortress 2']\n",
        "['Fallen Earth', 'Magic Duels', 'Titan Souls', 'Grand Theft Auto Vice City', 'RUSH']\n",
        "```"
      ]
    },
    {
      "cell_type": "code",
      "metadata": {
        "id": "jUcZD7mmTJdA"
      },
      "source": [
        "def print_info():\n",
        "\n",
        "\n",
        "print_info()"
      ],
      "execution_count": null,
      "outputs": []
    },
    {
      "cell_type": "markdown",
      "metadata": {
        "id": "yNWg08k6bXv0"
      },
      "source": [
        "---\n",
        "### Exercise 2 - use a loop to print the first 20 items\n",
        "\n",
        "Write a function which will:\n",
        "*  create a new list from the first 20 items of the titles list\n",
        "*  loop through the new list and print each item\n"
      ]
    },
    {
      "cell_type": "code",
      "metadata": {
        "id": "P2HnCG9pb1BS"
      },
      "source": [
        "def print_list():\n",
        "\n",
        "\n",
        "print_list()"
      ],
      "execution_count": null,
      "outputs": []
    },
    {
      "cell_type": "markdown",
      "metadata": {
        "id": "RTSuQZs4b1JU"
      },
      "source": [
        "---\n",
        "### Exercise 3 - count the number of times a title appears in the list\n",
        "\n",
        "Write a function which will:\n",
        "*  count the number of times that the title Fallout 4 appears in the list\n",
        "\n",
        "Expected output:  \n",
        "168"
      ]
    },
    {
      "cell_type": "code",
      "metadata": {
        "id": "OwhFnH2kdC11"
      },
      "source": [
        "def count_title():\n",
        "\n",
        "\n",
        "count_title()"
      ],
      "execution_count": null,
      "outputs": []
    },
    {
      "cell_type": "markdown",
      "metadata": {
        "id": "KS0x3oFNePI9"
      },
      "source": [
        "---\n",
        "### Exercise 4 - remove all duplicates of a title from the list\n",
        "\n",
        "Write a function which will: remove all occurences of Fallout 4 from the titles list (Hint:  you can remove an occurence of Fallout 4 repeatedly until there is only one left)\n"
      ]
    },
    {
      "cell_type": "code",
      "metadata": {
        "id": "mpK1Ip3we-uC"
      },
      "source": [
        "def remove_duplicates():\n",
        "\n",
        "\n",
        "remove_duplicates()\n"
      ],
      "execution_count": null,
      "outputs": []
    },
    {
      "cell_type": "markdown",
      "metadata": {
        "id": "deUIFWjRe-3G"
      },
      "source": [
        "---\n",
        "### Exercise 5 - print the counts of the first 10 titles in the list\n",
        "\n",
        "Write a function which will:\n",
        "* loop through the first 10 items in the titles list\n",
        "* for each item print the number of times that title appears in the list\n"
      ]
    },
    {
      "cell_type": "code",
      "metadata": {
        "id": "b9TrHQ9hfoIU"
      },
      "source": [
        "def print_count_of_first_ten():\n",
        ")\n",
        "\n",
        "users, titles = get_users_and_titles()\n",
        "print_count_of_first_ten()"
      ],
      "execution_count": null,
      "outputs": []
    },
    {
      "cell_type": "markdown",
      "metadata": {
        "id": "zm2VI5RmfoSy"
      },
      "source": [
        "---\n",
        "### Project - work as a team\n",
        "\n",
        "The users list has the ids of all the users who have purchased STEAM games.\n",
        "\n",
        "Write a function that will:\n",
        "* count how many games have been purchased by each user.  \n",
        "* calculate the percentage of all purchases made by each user\n",
        "* calculate the percentage of all purchases made by these 100 users altogether\n",
        "* find the id of the user who has purchased the most games of these 100 users \n",
        "* calculate the average number of games purchased by a user from the 100 \n",
        "* print this information, printing each unique user just once  \n",
        "Do the same with the last 100 users  \n",
        "\n",
        "Divide up the tasks and each write one part, then try to get them all to work together."
      ]
    },
    {
      "cell_type": "markdown",
      "source": [
        "### Practice 1\n",
        "---\n",
        "Get a list of unique user ids\n",
        "\n",
        "Write some code that will loop through the users list and add each new user id to a new list called **unique_users**\n",
        "\n",
        "**Expected output**:\n",
        "12393"
      ],
      "metadata": {
        "id": "rnEnIN0X_kR1"
      }
    },
    {
      "cell_type": "code",
      "source": [
        "# get list of unique user ids\n",
        "\n"
      ],
      "metadata": {
        "id": "gf7o-I1GAACe"
      },
      "execution_count": null,
      "outputs": []
    },
    {
      "cell_type": "markdown",
      "source": [
        "### Practice 2\n",
        "---\n",
        "\n",
        "Write code that will create a subset of the unique_users list, containing just the first 100 users and called **hundred_users**.  Loop through the hundred_users list and for each, will print the number of games that user has purchased (`users.count(unique_user`)\n",
        "\n",
        "**Expected output**:\n",
        "```\n",
        "40\n",
        "1\n",
        "43\n",
        "505\n",
        "1\n",
        "...\n",
        "...\n",
        "2\n",
        "18\n",
        "27\n",
        "1\n",
        "33\n",
        "```"
      ],
      "metadata": {
        "id": "aaguOOlbArIN"
      }
    },
    {
      "cell_type": "code",
      "source": [
        "# print number of games purchased by each of first hundred users\n"
      ],
      "metadata": {
        "id": "Q_Ov6QpjBIwN"
      },
      "execution_count": null,
      "outputs": []
    },
    {
      "cell_type": "markdown",
      "source": [
        "### Practice 3\n",
        "---\n",
        "Write code to calculate the percentage that the first user in the unique_user list has purchased of all the purchases made by users.  Print the users id and the percentage\n",
        "\n",
        "*Hint*:  get the count for that user (as in the last practice), divide it by the number of purchase made (the length of the original users list) and multiply by 100\n",
        "\n",
        "**Expected output**:  \n",
        "`151603712 0.03 %`"
      ],
      "metadata": {
        "id": "o4dWTE6aCBBb"
      }
    },
    {
      "cell_type": "code",
      "source": [
        "# Find percentage purchases bought by first user\n"
      ],
      "metadata": {
        "id": "corMMlyOCkON"
      },
      "execution_count": null,
      "outputs": []
    },
    {
      "cell_type": "markdown",
      "source": [
        "### Practice 4\n",
        "---\n",
        "Write some code that will loop through the `hundred_users` and find the id of the user with the largest number of purchases\n",
        "\n",
        "**Expected output**:  \n",
        "```\n",
        "53875128\n",
        "```\n"
      ],
      "metadata": {
        "id": "vnOxgvPhE0M9"
      }
    },
    {
      "cell_type": "code",
      "source": [
        "# find user who has made most purchases\n"
      ],
      "metadata": {
        "id": "jO3NmUwjFLNO"
      },
      "execution_count": null,
      "outputs": []
    },
    {
      "cell_type": "markdown",
      "source": [
        "### Practice 5\n",
        "---\n",
        "Write some code that will loop through the `hundred_users`, add all the purchases made by them, then calculate this as a percentage of the total number of purchases made (as before)  divide by 100 (the number of users in this list) to get the average.\n",
        "\n",
        "**Expected output**:  \n",
        "```\n",
        "0.01 %\n",
        "\n",
        "```"
      ],
      "metadata": {
        "id": "Gsixx_x-FLWr"
      }
    },
    {
      "cell_type": "code",
      "source": [
        "# find percentage of total purchases made by first hundred users\n"
      ],
      "metadata": {
        "id": "MD8nr8yYFaNI"
      },
      "execution_count": null,
      "outputs": []
    },
    {
      "cell_type": "markdown",
      "source": [
        "### Practice 6\n",
        "---\n",
        "\n",
        "Write some code that will loop through the `hundred_users`, add all the purchases made by them, then divide by 100 (the number of users in this list) to get the average.\n",
        "\n",
        "**Expected output**:  \n",
        "```\n",
        "16.46\n",
        "\n",
        "```"
      ],
      "metadata": {
        "id": "M1bFW6XVFaaA"
      }
    },
    {
      "cell_type": "code",
      "source": [
        "# find average number of purchases made by first 100 users\n"
      ],
      "metadata": {
        "id": "JBSp_focFvRO"
      },
      "execution_count": null,
      "outputs": []
    },
    {
      "cell_type": "markdown",
      "source": [
        "### Practice 7\n",
        "---\n",
        "Put all the above together into a function, and add code to print the average number of games per user, the user id of the user with the maximum number of purchases, and a list of the hundred users ids and the percentage each has purchased"
      ],
      "metadata": {
        "id": "uJlVJSMOFv80"
      }
    },
    {
      "cell_type": "code",
      "source": [
        "def process_user_purchases():\n",
        "\n",
        "\n",
        "\n",
        "process_user_purchases()"
      ],
      "metadata": {
        "id": "HQtJd18eGSrf"
      },
      "execution_count": null,
      "outputs": []
    }
  ]
}
